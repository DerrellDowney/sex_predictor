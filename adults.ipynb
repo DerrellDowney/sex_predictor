{
 "cells": [
  {
   "cell_type": "code",
   "execution_count": null,
   "metadata": {},
   "outputs": [],
   "source": [
    "import pandas as pd\n",
    "import numpy as np\n",
    "import basic_neural_network as bnn\n",
    "from basic_neural_network import *\n",
    "# dataset from https://www.kaggle.com/yersever/500-person-gender-height-weight-bodymassindex"
   ]
  },
  {
   "cell_type": "code",
   "execution_count": null,
   "metadata": {},
   "outputs": [],
   "source": [
    "df = pd.read_csv(\"heightweightdata.csv\")\n",
    "df.head()\n",
    "#Only selects adults with '#' description\n",
    "#df = df[df['Index']==0]\n",
    "#df = df[df['Index']==1]\n",
    "df = df[df['Index']==2]\n",
    "#df = df[df['Index']==3]\n",
    "#df = df[df['Index']==4]"
   ]
  },
  {
   "cell_type": "markdown",
   "metadata": {},
   "source": []
  },
  {
   "cell_type": "code",
   "execution_count": null,
   "metadata": {},
   "outputs": [],
   "source": [
    "data = df.replace(\"Male\", 0)\n",
    "data = data.replace(\"Female\", 1)\n",
    "data.drop('Index', axis=1, inplace=True)\n",
    "y_trues = data['Gender']"
   ]
  },
  {
   "cell_type": "code",
   "execution_count": null,
   "metadata": {},
   "outputs": [],
   "source": [
    "data.drop('Gender', axis=1, inplace=True)\n",
    "\n",
    "# Subtract 167 cm\n",
    "data['Height']-=167\n",
    "# Subtract 61 kg\n",
    "data['Weight']-=61\n",
    "\n",
    "data = data.to_numpy()\n",
    "y_trues = y_trues.to_numpy()\n",
    "\n"
   ]
  },
  {
   "cell_type": "code",
   "execution_count": null,
   "metadata": {},
   "outputs": [],
   "source": [
    "network = OurNeuralNetwork()\n",
    "network.train(data, y_trues)"
   ]
  },
  {
   "cell_type": "code",
   "execution_count": null,
   "metadata": {},
   "outputs": [],
   "source": [
    "emily = np.array([-3, -7]) # 58 kg, 160 cm\n",
    "frank = np.array([9, 21])  # 70 kg, 200 cm\n",
    "print(\"Emily: %.3f\" % network.feedforward(emily)) # Closer to 1\n",
    "print(\"Frank: %.3f\" % network.feedforward(frank)) # Closer to 0"
   ]
  }
 ],
 "metadata": {
  "interpreter": {
   "hash": "949777d72b0d2535278d3dc13498b2535136f6dfe0678499012e853ee9abcab1"
  },
  "kernelspec": {
   "display_name": "Python 3.9.6 64-bit",
   "language": "python",
   "name": "python3"
  },
  "language_info": {
   "codemirror_mode": {
    "name": "ipython",
    "version": 3
   },
   "file_extension": ".py",
   "mimetype": "text/x-python",
   "name": "python",
   "nbconvert_exporter": "python",
   "pygments_lexer": "ipython3",
   "version": "3.9.6"
  },
  "orig_nbformat": 4
 },
 "nbformat": 4,
 "nbformat_minor": 2
}
